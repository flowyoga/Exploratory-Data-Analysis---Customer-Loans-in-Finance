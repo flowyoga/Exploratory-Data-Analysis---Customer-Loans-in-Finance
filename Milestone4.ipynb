{
 "cells": [
  {
   "cell_type": "markdown",
   "id": "8e9aaccb-400c-4fd7-ba6d-5739bd5f96b4",
   "metadata": {},
   "source": [
    "# Milestone 4: Analysis and Visualisation"
   ]
  },
  {
   "cell_type": "code",
   "execution_count": 1,
   "id": "32159991-c43d-4ee6-8f1a-cd602eab25a0",
   "metadata": {},
   "outputs": [],
   "source": [
    "import db_utils\n",
    "import pandas as pd\n",
    "import warnings  \n",
    "\n",
    "pd.set_option('display.max_columns', 500)\n",
    "pd.set_option('display.max_rows',None)\n",
    "warnings.filterwarnings('ignore')  "
   ]
  },
  {
   "cell_type": "code",
   "execution_count": 2,
   "id": "e4d8c22c-4d09-4364-b63e-61ff65d198e0",
   "metadata": {},
   "outputs": [],
   "source": [
    "df_loan=db_utils.load_data_from_csv('df_loan_backup.csv')"
   ]
  },
  {
   "cell_type": "code",
   "execution_count": 3,
   "id": "d78f9fe2-e737-459a-9934-7b7766a9979a",
   "metadata": {},
   "outputs": [
    {
     "data": {
      "text/plain": [
       "(47423, 39)"
      ]
     },
     "execution_count": 3,
     "metadata": {},
     "output_type": "execute_result"
    }
   ],
   "source": [
    "df_loan.shape"
   ]
  },
  {
   "cell_type": "markdown",
   "id": "cc35af8e-22a0-4532-bb50-18da410b9448",
   "metadata": {},
   "source": [
    "## Task 1: Current state of the loans"
   ]
  },
  {
   "cell_type": "code",
   "execution_count": 4,
   "id": "e5737e22-e837-4dfc-a160-a90113a18377",
   "metadata": {},
   "outputs": [
    {
     "data": {
      "text/plain": [
       "loan_status\n",
       "Fully Paid                                             23940\n",
       "Current                                                16705\n",
       "Charged Off                                             4719\n",
       "Does not meet the credit policy. Status:Fully Paid       890\n",
       "Late (31-120 days)                                       490\n",
       "Does not meet the credit policy. Status:Charged Off      315\n",
       "In Grace Period                                          232\n",
       "Late (16-30 days)                                         87\n",
       "Default                                                   45\n",
       "Name: count, dtype: int64"
      ]
     },
     "execution_count": 4,
     "metadata": {},
     "output_type": "execute_result"
    }
   ],
   "source": [
    "df_loan.loan_status.value_counts()"
   ]
  },
  {
   "cell_type": "code",
   "execution_count": 5,
   "id": "b4206173-7002-48aa-9a39-c8256383c921",
   "metadata": {},
   "outputs": [],
   "source": [
    "df_loan_current=df_loan[df_loan.loan_status=='Current']"
   ]
  },
  {
   "cell_type": "code",
   "execution_count": 6,
   "id": "f3dbced3-f845-493f-9779-522f856a909c",
   "metadata": {},
   "outputs": [
    {
     "data": {
      "text/html": [
       "<div>\n",
       "<style scoped>\n",
       "    .dataframe tbody tr th:only-of-type {\n",
       "        vertical-align: middle;\n",
       "    }\n",
       "\n",
       "    .dataframe tbody tr th {\n",
       "        vertical-align: top;\n",
       "    }\n",
       "\n",
       "    .dataframe thead th {\n",
       "        text-align: right;\n",
       "    }\n",
       "</style>\n",
       "<table border=\"1\" class=\"dataframe\">\n",
       "  <thead>\n",
       "    <tr style=\"text-align: right;\">\n",
       "      <th></th>\n",
       "      <th>id</th>\n",
       "      <th>member_id</th>\n",
       "      <th>loan_amount</th>\n",
       "      <th>funded_amount</th>\n",
       "      <th>funded_amount_inv</th>\n",
       "      <th>term</th>\n",
       "      <th>int_rate</th>\n",
       "      <th>instalment</th>\n",
       "      <th>grade</th>\n",
       "      <th>sub_grade</th>\n",
       "      <th>employment_length</th>\n",
       "      <th>home_ownership</th>\n",
       "      <th>annual_inc</th>\n",
       "      <th>verification_status</th>\n",
       "      <th>issue_date</th>\n",
       "      <th>loan_status</th>\n",
       "      <th>payment_plan</th>\n",
       "      <th>purpose</th>\n",
       "      <th>dti</th>\n",
       "      <th>delinq_2yrs</th>\n",
       "      <th>earliest_credit_line</th>\n",
       "      <th>inq_last_6mths</th>\n",
       "      <th>open_accounts</th>\n",
       "      <th>total_accounts</th>\n",
       "      <th>out_prncp</th>\n",
       "      <th>out_prncp_inv</th>\n",
       "      <th>total_payment</th>\n",
       "      <th>total_payment_inv</th>\n",
       "      <th>total_rec_prncp</th>\n",
       "      <th>total_rec_int</th>\n",
       "      <th>total_rec_late_fee</th>\n",
       "      <th>recoveries</th>\n",
       "      <th>collection_recovery_fee</th>\n",
       "      <th>last_payment_date</th>\n",
       "      <th>last_payment_amount</th>\n",
       "      <th>last_credit_pull_date</th>\n",
       "      <th>collections_12_mths_ex_med</th>\n",
       "      <th>policy_code</th>\n",
       "      <th>application_type</th>\n",
       "    </tr>\n",
       "  </thead>\n",
       "  <tbody>\n",
       "    <tr>\n",
       "      <th>0</th>\n",
       "      <td>38676116</td>\n",
       "      <td>41461848</td>\n",
       "      <td>8000</td>\n",
       "      <td>8000.0</td>\n",
       "      <td>8000.0</td>\n",
       "      <td>36</td>\n",
       "      <td>7.49</td>\n",
       "      <td>248.82</td>\n",
       "      <td>A</td>\n",
       "      <td>A4</td>\n",
       "      <td>5</td>\n",
       "      <td>MORTGAGE</td>\n",
       "      <td>46000.0</td>\n",
       "      <td>Not Verified</td>\n",
       "      <td>2021-01-01</td>\n",
       "      <td>Current</td>\n",
       "      <td>n</td>\n",
       "      <td>credit_card</td>\n",
       "      <td>19.54</td>\n",
       "      <td>2</td>\n",
       "      <td>1987-10-01</td>\n",
       "      <td>1</td>\n",
       "      <td>12</td>\n",
       "      <td>27</td>\n",
       "      <td>5529.70</td>\n",
       "      <td>5529.70</td>\n",
       "      <td>2982.51</td>\n",
       "      <td>2982.51</td>\n",
       "      <td>2470.30</td>\n",
       "      <td>512.21</td>\n",
       "      <td>0.0</td>\n",
       "      <td>0.0</td>\n",
       "      <td>0.0</td>\n",
       "      <td>2022-01-01</td>\n",
       "      <td>248.82</td>\n",
       "      <td>2022-01-01</td>\n",
       "      <td>0.0</td>\n",
       "      <td>1</td>\n",
       "      <td>INDIVIDUAL</td>\n",
       "    </tr>\n",
       "    <tr>\n",
       "      <th>1</th>\n",
       "      <td>38656203</td>\n",
       "      <td>41440010</td>\n",
       "      <td>13200</td>\n",
       "      <td>13200.0</td>\n",
       "      <td>13200.0</td>\n",
       "      <td>36</td>\n",
       "      <td>6.99</td>\n",
       "      <td>407.52</td>\n",
       "      <td>A</td>\n",
       "      <td>A3</td>\n",
       "      <td>9</td>\n",
       "      <td>RENT</td>\n",
       "      <td>50000.0</td>\n",
       "      <td>Not Verified</td>\n",
       "      <td>2021-01-01</td>\n",
       "      <td>Current</td>\n",
       "      <td>n</td>\n",
       "      <td>credit_card</td>\n",
       "      <td>24.20</td>\n",
       "      <td>0</td>\n",
       "      <td>2001-09-01</td>\n",
       "      <td>0</td>\n",
       "      <td>15</td>\n",
       "      <td>31</td>\n",
       "      <td>9102.83</td>\n",
       "      <td>9102.83</td>\n",
       "      <td>4885.11</td>\n",
       "      <td>4885.11</td>\n",
       "      <td>4097.17</td>\n",
       "      <td>787.94</td>\n",
       "      <td>0.0</td>\n",
       "      <td>0.0</td>\n",
       "      <td>0.0</td>\n",
       "      <td>2022-01-01</td>\n",
       "      <td>407.52</td>\n",
       "      <td>2022-01-01</td>\n",
       "      <td>0.0</td>\n",
       "      <td>1</td>\n",
       "      <td>INDIVIDUAL</td>\n",
       "    </tr>\n",
       "  </tbody>\n",
       "</table>\n",
       "</div>"
      ],
      "text/plain": [
       "         id  member_id  loan_amount  funded_amount  funded_amount_inv  term  \\\n",
       "0  38676116   41461848         8000         8000.0             8000.0    36   \n",
       "1  38656203   41440010        13200        13200.0            13200.0    36   \n",
       "\n",
       "   int_rate  instalment grade sub_grade  employment_length home_ownership  \\\n",
       "0      7.49      248.82     A        A4                  5       MORTGAGE   \n",
       "1      6.99      407.52     A        A3                  9           RENT   \n",
       "\n",
       "   annual_inc verification_status  issue_date loan_status payment_plan  \\\n",
       "0     46000.0        Not Verified  2021-01-01     Current            n   \n",
       "1     50000.0        Not Verified  2021-01-01     Current            n   \n",
       "\n",
       "       purpose    dti  delinq_2yrs earliest_credit_line  inq_last_6mths  \\\n",
       "0  credit_card  19.54            2           1987-10-01               1   \n",
       "1  credit_card  24.20            0           2001-09-01               0   \n",
       "\n",
       "   open_accounts  total_accounts  out_prncp  out_prncp_inv  total_payment  \\\n",
       "0             12              27    5529.70        5529.70        2982.51   \n",
       "1             15              31    9102.83        9102.83        4885.11   \n",
       "\n",
       "   total_payment_inv  total_rec_prncp  total_rec_int  total_rec_late_fee  \\\n",
       "0            2982.51          2470.30         512.21                 0.0   \n",
       "1            4885.11          4097.17         787.94                 0.0   \n",
       "\n",
       "   recoveries  collection_recovery_fee last_payment_date  last_payment_amount  \\\n",
       "0         0.0                      0.0        2022-01-01               248.82   \n",
       "1         0.0                      0.0        2022-01-01               407.52   \n",
       "\n",
       "  last_credit_pull_date  collections_12_mths_ex_med  policy_code  \\\n",
       "0            2022-01-01                         0.0            1   \n",
       "1            2022-01-01                         0.0            1   \n",
       "\n",
       "  application_type  \n",
       "0       INDIVIDUAL  \n",
       "1       INDIVIDUAL  "
      ]
     },
     "execution_count": 6,
     "metadata": {},
     "output_type": "execute_result"
    }
   ],
   "source": [
    "df_loan_current.head(2)"
   ]
  },
  {
   "cell_type": "code",
   "execution_count": 7,
   "id": "c7b8102d-5689-459e-a0d6-0f104ed59759",
   "metadata": {},
   "outputs": [],
   "source": [
    "columns_to_check=['funded_amount_inv','funded_amount','total_payment','total_payment_inv']"
   ]
  },
  {
   "cell_type": "code",
   "execution_count": 8,
   "id": "e43a8539-cea2-49c1-9639-68d006e38d5f",
   "metadata": {},
   "outputs": [],
   "source": [
    "df_pct_paid=pd.DataFrame(columns=['desc','value'])"
   ]
  },
  {
   "cell_type": "code",
   "execution_count": 9,
   "id": "9149ea74-6540-4a0d-ad08-fbe5cb105889",
   "metadata": {},
   "outputs": [
    {
     "name": "stdout",
     "output_type": "stream",
     "text": [
      "73.74 % has been recovered against the investor funding.\n"
     ]
    }
   ],
   "source": [
    "percentage_of_loan_recovered_inv=round(df_loan_current.total_payment_inv.sum()/ df_loan_current.funded_amount_inv.sum() * 100,2)\n",
    "print(percentage_of_loan_recovered_inv, \"% has been recovered against the investor funding.\")\n",
    "df_pct_paid=df_pct_paid._append({'desc':'inv', 'value': percentage_of_loan_recovered_inv}, ignore_index=True)"
   ]
  },
  {
   "cell_type": "code",
   "execution_count": 10,
   "id": "f8cc52b9-0e33-4fb5-a4b4-0fe4a142fcac",
   "metadata": {},
   "outputs": [
    {
     "name": "stdout",
     "output_type": "stream",
     "text": [
      "74.61 % has been recovered against the total amount funded.\n"
     ]
    }
   ],
   "source": [
    "percentage_of_loan_recovered=round(df_loan_current.total_payment.sum()/ df_loan_current.funded_amount.sum() *100 ,2)\n",
    "print(percentage_of_loan_recovered, \"% has been recovered against the total amount funded.\")\n",
    "df_pct_paid=df_pct_paid._append({'desc':'total', 'value': percentage_of_loan_recovered}, ignore_index=True)"
   ]
  },
  {
   "cell_type": "code",
   "execution_count": 11,
   "id": "44ae852f-b6ba-4ea8-8544-4247dbf10475",
   "metadata": {},
   "outputs": [
    {
     "data": {
      "text/html": [
       "<div>\n",
       "<style scoped>\n",
       "    .dataframe tbody tr th:only-of-type {\n",
       "        vertical-align: middle;\n",
       "    }\n",
       "\n",
       "    .dataframe tbody tr th {\n",
       "        vertical-align: top;\n",
       "    }\n",
       "\n",
       "    .dataframe thead th {\n",
       "        text-align: right;\n",
       "    }\n",
       "</style>\n",
       "<table border=\"1\" class=\"dataframe\">\n",
       "  <thead>\n",
       "    <tr style=\"text-align: right;\">\n",
       "      <th></th>\n",
       "      <th>desc</th>\n",
       "      <th>value</th>\n",
       "    </tr>\n",
       "  </thead>\n",
       "  <tbody>\n",
       "    <tr>\n",
       "      <th>0</th>\n",
       "      <td>inv</td>\n",
       "      <td>73.74</td>\n",
       "    </tr>\n",
       "    <tr>\n",
       "      <th>1</th>\n",
       "      <td>total</td>\n",
       "      <td>74.61</td>\n",
       "    </tr>\n",
       "  </tbody>\n",
       "</table>\n",
       "</div>"
      ],
      "text/plain": [
       "    desc  value\n",
       "0    inv  73.74\n",
       "1  total  74.61"
      ]
     },
     "execution_count": 11,
     "metadata": {},
     "output_type": "execute_result"
    }
   ],
   "source": [
    "df_pct_paid"
   ]
  },
  {
   "cell_type": "code",
   "execution_count": 12,
   "id": "e9fab027-9ff0-451a-88e7-8d982941391f",
   "metadata": {},
   "outputs": [
    {
     "data": {
      "text/plain": [
       "<Axes: xlabel='desc'>"
      ]
     },
     "execution_count": 12,
     "metadata": {},
     "output_type": "execute_result"
    },
    {
     "data": {
      "image/png": "[encoded data removed]",
      "text/plain": [
       "<Figure size 640x480 with 1 Axes>"
      ]
     },
     "metadata": {},
     "output_type": "display_data"
    }
   ],
   "source": [
    "df_pct_paid.plot.bar(x='desc', y='value')"
   ]
  },
  {
   "cell_type": "code",
   "execution_count": 13,
   "id": "a2de2872-90d2-48ce-bb72-0ec0addc4ed4",
   "metadata": {},
   "outputs": [],
   "source": [
    "df_loan_current['total_payment_upto_6']=df_loan_current.instalment * 6 + df_loan_current.total_payment"
   ]
  },
  {
   "cell_type": "code",
   "execution_count": 14,
   "id": "2571ecf2-48a9-4e48-bf89-f8310862942b",
   "metadata": {},
   "outputs": [
    {
     "name": "stdout",
     "output_type": "stream",
     "text": [
      "92.54 % would be recoevered up to 6 months' in the future.\n"
     ]
    }
   ],
   "source": [
    "percentage_of_loan_recovered_6=round(df_loan_current.total_payment_upto_6.sum()/ df_loan_current.funded_amount.sum() *100 ,2)\n",
    "print(percentage_of_loan_recovered_6,\"% would be recoevered up to 6 months' in the future.\")\n",
    "df_pct_paid=df_pct_paid._append({'desc':'total_upto_6', 'value': percentage_of_loan_recovered_6}, ignore_index=True)"
   ]
  },
  {
   "cell_type": "code",
   "execution_count": 15,
   "id": "ebdcd741-a79a-4118-93df-b6e8c65a92af",
   "metadata": {},
   "outputs": [
    {
     "data": {
      "text/plain": [
       "<Axes: xlabel='desc'>"
      ]
     },
     "execution_count": 15,
     "metadata": {},
     "output_type": "execute_result"
    },
    {
     "data": {
      "image/png": "[encoded data removed]",
      "text/plain": [
       "<Figure size 640x480 with 1 Axes>"
      ]
     },
     "metadata": {},
     "output_type": "display_data"
    }
   ],
   "source": [
    "df_pct_paid.plot.bar(x='desc', y='value')"
   ]
  },
  {
   "cell_type": "markdown",
   "id": "e79e2dec-05d3-474a-8fbf-b0beafb32910",
   "metadata": {},
   "source": [
    "## Task 2: Calculating Loss"
   ]
  },
  {
   "cell_type": "code",
   "execution_count": 16,
   "id": "87453246-fab6-4721-8a0f-04cc07fe4adf",
   "metadata": {},
   "outputs": [
    {
     "data": {
      "text/plain": [
       "loan_status\n",
       "Fully Paid                                             23940\n",
       "Current                                                16705\n",
       "Charged Off                                             4719\n",
       "Does not meet the credit policy. Status:Fully Paid       890\n",
       "Late (31-120 days)                                       490\n",
       "Does not meet the credit policy. Status:Charged Off      315\n",
       "In Grace Period                                          232\n",
       "Late (16-30 days)                                         87\n",
       "Default                                                   45\n",
       "Name: count, dtype: int64"
      ]
     },
     "execution_count": 16,
     "metadata": {},
     "output_type": "execute_result"
    }
   ],
   "source": [
    "df_loan.loan_status.value_counts()"
   ]
  },
  {
   "cell_type": "code",
   "execution_count": 17,
   "id": "427fd174-4260-49d0-afa9-276ba03e38a9",
   "metadata": {},
   "outputs": [
    {
     "name": "stdout",
     "output_type": "stream",
     "text": [
      "Percentage of charged off loans: 9.95 %\n",
      "Total payment paid before chargedoff: 32330240.13\n"
     ]
    }
   ],
   "source": [
    "pct_of_chargeoff=round(len(df_loan[df_loan.loan_status=='Charged Off'])/len(df_loan)*100,2)\n",
    "print(\"Percentage of charged off loans: {} %\".format(pct_of_chargeoff))\n",
    "\n",
    "total_payment_paid_before_chargedoff=round(df_loan[df_loan.loan_status=='Charged Off'].total_payment.sum(),2)\n",
    "print(\"Total payment paid before chargedoff: {}\".format(total_payment_paid_before_chargedoff))"
   ]
  },
  {
   "cell_type": "markdown",
   "id": "c6b06a2a-f5d6-47f2-adb1-345327ed66c5",
   "metadata": {},
   "source": [
    "## Task 3: Calculating projected loss \n"
   ]
  },
  {
   "cell_type": "code",
   "execution_count": 18,
   "id": "827cb47f-9a2a-480c-b7b5-969da86821f7",
   "metadata": {},
   "outputs": [],
   "source": [
    "df_loan_chargedoff=df_loan[df_loan.loan_status=='Charged Off']"
   ]
  },
  {
   "cell_type": "code",
   "execution_count": 19,
   "id": "9c28aeaa-8d53-4877-91da-a63577dda4a4",
   "metadata": {},
   "outputs": [],
   "source": [
    "df_loan_chargedoff['expected_total_payment']=df_loan_chargedoff.instalment*df_loan_chargedoff.term"
   ]
  },
  {
   "cell_type": "code",
   "execution_count": 20,
   "id": "f314fc54-ba43-4403-9611-8a16fc3f2e1c",
   "metadata": {},
   "outputs": [
    {
     "name": "stdout",
     "output_type": "stream",
     "text": [
      "The loss in revenue is 57536234.31.\n"
     ]
    }
   ],
   "source": [
    "loss_amount=df_loan_chargedoff.expected_total_payment.sum() - df_loan_chargedoff.total_payment.sum()\n",
    "print(\"The loss in revenue is {}.\".format(round(loss_amount,2)))"
   ]
  },
  {
   "cell_type": "code",
   "execution_count": 21,
   "id": "44b923bf-b596-466e-86fe-79ee4f8f1dad",
   "metadata": {},
   "outputs": [],
   "source": [
    "# df_loan_chargedoff.expected_total_payment.plot(kind='pie')\n",
    "\n",
    "pc_loss_amt=pd.DataFrame(columns=['desc','value'])\n",
    "pc_loss_amt=pc_loss_amt._append({'desc':'payment_received', 'value': df_loan_chargedoff.total_payment.sum() }, ignore_index=True)\n",
    "pc_loss_amt=pc_loss_amt._append({'desc':'loss', 'value': loss_amount}, ignore_index=True)"
   ]
  },
  {
   "cell_type": "code",
   "execution_count": 22,
   "id": "b47ae0cd-e7e1-4e2e-ae3d-ebc954dc9eb5",
   "metadata": {},
   "outputs": [
    {
     "data": {
      "text/plain": [
       "<Axes: ylabel='value'>"
      ]
     },
     "execution_count": 22,
     "metadata": {},
     "output_type": "execute_result"
    },
    {
     "data": {
      "image/png": "[encoded data removed]",
      "text/plain": [
       "<Figure size 640x480 with 1 Axes>"
      ]
     },
     "metadata": {},
     "output_type": "display_data"
    }
   ],
   "source": [
    "pc_loss_amt.value.plot(kind='pie', autopct='%1.1f%%', labels=pc_loss_amt.desc)"
   ]
  },
  {
   "cell_type": "markdown",
   "id": "a8a59613-6007-49c8-b440-1d9c7672672c",
   "metadata": {},
   "source": [
    "## Task 4: Possible Loss"
   ]
  },
  {
   "cell_type": "code",
   "execution_count": 23,
   "id": "ea6f00a7-de67-46d5-ae7b-182a8f022fff",
   "metadata": {},
   "outputs": [
    {
     "data": {
      "text/plain": [
       "loan_status\n",
       "Charged Off                                            3.233024e+07\n",
       "Current                                                1.856931e+08\n",
       "Default                                                4.364734e+05\n",
       "Does not meet the credit policy. Status:Charged Off    1.646160e+06\n",
       "Does not meet the credit policy. Status:Fully Paid     9.765066e+06\n",
       "Fully Paid                                             3.409088e+08\n",
       "In Grace Period                                        2.869520e+06\n",
       "Late (16-30 days)                                      8.722510e+05\n",
       "Late (31-120 days)                                     5.080125e+06\n",
       "Name: total_payment, dtype: float64"
      ]
     },
     "execution_count": 23,
     "metadata": {},
     "output_type": "execute_result"
    }
   ],
   "source": [
    "# df_loan.groupby('loan_status')['funded_amount'].agg('sum')\n",
    "df_loan.groupby('loan_status')['total_payment'].agg('sum')"
   ]
  },
  {
   "cell_type": "code",
   "execution_count": 24,
   "id": "8b949c92-d989-469b-b03e-85832251a1b4",
   "metadata": {},
   "outputs": [],
   "source": [
    "df_loan_late=df_loan[df_loan.loan_status.str.contains('Late')]"
   ]
  },
  {
   "cell_type": "code",
   "execution_count": 25,
   "id": "150e018b-5d6f-46b1-9eb9-d7e5be2127f2",
   "metadata": {},
   "outputs": [
    {
     "name": "stdout",
     "output_type": "stream",
     "text": [
      "1.22 % of users are currently behind their loan payments.\n"
     ]
    }
   ],
   "source": [
    "print(round(len(set(df_loan_late.member_id))/len(set(df_loan.member_id))*100,2), \"% of users are currently behind their loan payments.\")"
   ]
  },
  {
   "cell_type": "code",
   "execution_count": 26,
   "id": "46efb068-3ece-4cfa-8f63-304d2abce5c2",
   "metadata": {},
   "outputs": [],
   "source": [
    "df_loan_late['expected_total_payment']=df_loan_late.instalment*df_loan_late.term"
   ]
  },
  {
   "cell_type": "code",
   "execution_count": 27,
   "id": "eba8f667-8e2b-4d5b-9301-d730bc0c1ef6",
   "metadata": {},
   "outputs": [
    {
     "name": "stdout",
     "output_type": "stream",
     "text": [
      "Projected loss is 6616434.94.\n"
     ]
    }
   ],
   "source": [
    "loss= round(df_loan_late.expected_total_payment.sum() - df_loan_late.total_payment.sum(),2)\n",
    "print(\"Projected loss is {}.\".format(str(loss)))"
   ]
  },
  {
   "cell_type": "code",
   "execution_count": 28,
   "id": "9c7fb448-d004-4695-bfcd-4f114e7a1c50",
   "metadata": {},
   "outputs": [],
   "source": [
    "expected_payments_from_all_chargedoff_and_lateones=df_loan_chargedoff['expected_total_payment'].sum()+df_loan_late.expected_total_payment.sum() "
   ]
  },
  {
   "cell_type": "code",
   "execution_count": 29,
   "id": "9f8214b8-e520-49d8-bbbf-99ea8bc5f4fc",
   "metadata": {},
   "outputs": [
    {
     "data": {
      "text/plain": [
       "102435285.0"
      ]
     },
     "execution_count": 29,
     "metadata": {},
     "output_type": "execute_result"
    }
   ],
   "source": [
    "expected_payments_from_all_chargedoff_and_lateones "
   ]
  },
  {
   "cell_type": "code",
   "execution_count": 30,
   "id": "5dd12f0e-8c94-4c1c-b860-0885aa60fd61",
   "metadata": {},
   "outputs": [
    {
     "name": "stdout",
     "output_type": "stream",
     "text": [
      "% of total expected revenue:  5.81\n"
     ]
    }
   ],
   "source": [
    "print(\"% of total expected revenue: \", \n",
    "      round(df_loan_late.total_payment.sum()/expected_payments_from_all_chargedoff_and_lateones*100,2))\n",
    "\n",
    "      "
   ]
  },
  {
   "attachments": {},
   "cell_type": "markdown",
   "id": "db8b2394-a037-4b9e-927b-dec6383d9a7d",
   "metadata": {},
   "source": [
    "Note: I understood here that % calcaulation on ones (those status changed from Late to Chargedoff) against ChargedOff"
   ]
  },
  {
   "cell_type": "markdown",
   "id": "64dbeb73-87e8-4fc2-b8eb-938976ca21dc",
   "metadata": {},
   "source": [
    "## Task 5: Indicator of loss"
   ]
  },
  {
   "cell_type": "code",
   "execution_count": 175,
   "id": "97d466eb-596e-4e4f-9ba1-d382650dffa2",
   "metadata": {},
   "outputs": [],
   "source": [
    "df_t5_chargedoff=df_loan[df_loan.loan_status=='Charged Off'].loc[:, ['loan_status','grade','purpose','home_ownership']].reset_index(drop=True)"
   ]
  },
  {
   "cell_type": "code",
   "execution_count": 176,
   "id": "aef83ced-6068-41ba-9aff-5c78740aa590",
   "metadata": {},
   "outputs": [],
   "source": [
    "df_t5_late=df_loan[df_loan.loan_status.str.contains('Late')].loc[:, ['loan_status','grade','purpose','home_ownership']].reset_index(drop=True)"
   ]
  },
  {
   "cell_type": "code",
   "execution_count": 177,
   "id": "3fb85e53-7066-4f29-bd6f-38c042232e5a",
   "metadata": {},
   "outputs": [
    {
     "data": {
      "text/plain": [
       "Text(0.5, 1.0, 'Late home_ownership')"
      ]
     },
     "execution_count": 177,
     "metadata": {},
     "output_type": "execute_result"
    },
    {
     "data": {
      "image/png": "[encoded data removed]",
      "text/plain": [
       "<Figure size 1500x1500 with 2 Axes>"
      ]
     },
     "metadata": {},
     "output_type": "display_data"
    }
   ],
   "source": [
    "fig=plt.figure(figsize=(15,15))\n",
    "\n",
    "plt.subplot(2,2,1) \n",
    "df_t5_chargedoff.groupby(['home_ownership'])['home_ownership'].agg('count').plot(kind='barh')\n",
    "plt.title('ChargedOff home_ownership')\n",
    "\n",
    "plt.subplot(2,2,2)\n",
    "df_t5_late.groupby(['home_ownership'])['home_ownership'].agg('count').plot(kind='barh')\n",
    "plt.title('Late home_ownership')\n"
   ]
  },
  {
   "cell_type": "code",
   "execution_count": 178,
   "id": "e84250e3-6c40-4019-96a1-82e33c9d296f",
   "metadata": {},
   "outputs": [
    {
     "data": {
      "text/plain": [
       "Text(0.5, 1.0, 'Late grade')"
      ]
     },
     "execution_count": 178,
     "metadata": {},
     "output_type": "execute_result"
    },
    {
     "data": {
      "image/png": "[encoded data removed]",
      "text/plain": [
       "<Figure size 1500x1500 with 2 Axes>"
      ]
     },
     "metadata": {},
     "output_type": "display_data"
    }
   ],
   "source": [
    "import matplotlib.pyplot as plt\n",
    "fig=plt.figure(figsize=(15,15))\n",
    "\n",
    "plt.subplot(2,2,1)\n",
    "df_t5_chargedoff.groupby(['grade'])['grade'].agg('count').plot(kind='barh')\n",
    "plt.title('ChargedOff grade')\n",
    "\n",
    "plt.subplot(2,2,2)\n",
    "df_t5_late.groupby(['grade'])['grade'].agg('count').plot(kind='barh')\n",
    "plt.title('Late grade')"
   ]
  },
  {
   "cell_type": "code",
   "execution_count": 179,
   "id": "387c203a-6431-4732-bfa9-e8cd2c1f81e6",
   "metadata": {},
   "outputs": [
    {
     "data": {
      "text/plain": [
       "Text(0.5, 1.0, 'Late purpose')"
      ]
     },
     "execution_count": 179,
     "metadata": {},
     "output_type": "execute_result"
    },
    {
     "data": {
      "image/png": "[encoded data removed]",
      "text/plain": [
       "<Figure size 1500x1500 with 2 Axes>"
      ]
     },
     "metadata": {},
     "output_type": "display_data"
    }
   ],
   "source": [
    "fig=plt.figure(figsize=(15,15))\n",
    "\n",
    "plt.subplot(2,2,1) \n",
    "df_t5_chargedoff.groupby(['purpose'])['purpose'].agg('count').plot(kind='barh')\n",
    "plt.title('ChargedOff purpose')\n",
    "\n",
    "plt.subplot(2,2,2)\n",
    "df_t5_late.groupby(['purpose'])['purpose'].agg('count').plot(kind='barh')\n",
    "plt.title('Late purpose')"
   ]
  },
  {
   "cell_type": "markdown",
   "id": "64773e91-5042-4c81-aa3d-8aacc4953115",
   "metadata": {},
   "source": [
    "Based on horizontal barplots, grades, home_ownership and purpose columns in both charged off loans and late payments loans.\n",
    "\n",
    "As these are categorical data, chi2_contengency in scipy.stats will be used. Null hypothesis here is there is no relationship between two categorical variables. Alternate Hypothesis here is there is relationship between two categorical variables."
   ]
  },
  {
   "cell_type": "code",
   "execution_count": 180,
   "id": "2cbb661b-bb66-4f22-adaa-bf2435a310a3",
   "metadata": {},
   "outputs": [],
   "source": [
    "from scipy.stats import chi2_contingency"
   ]
  },
  {
   "cell_type": "code",
   "execution_count": 182,
   "id": "021eb05a-5e10-4244-8604-74274913f780",
   "metadata": {},
   "outputs": [
    {
     "name": "stdout",
     "output_type": "stream",
     "text": [
      "checking late loans\n",
      "grade\n",
      "p value is 0.8137536818404312\n",
      "reject H0\n",
      "purpose\n",
      "p value is 0.39584428956887446\n",
      "reject H0\n",
      "home_ownership\n",
      "p value is 0.1705168484839697\n",
      "reject H0\n"
     ]
    }
   ],
   "source": [
    "print(\"checking late loans\")\n",
    "for col in ['grade','purpose','home_ownership']:\n",
    "    print(col)\n",
    "    chisq=pd.crosstab(df_t5_late['loan_status'], df_t5_late[col])\n",
    "    res = chi2_contingency(chisq)\n",
    "    print(\"p value is\", res.pvalue)\n",
    "    significance_level=0.05\n",
    "    if res.pvalue >0.05: \n",
    "        print(\"reject H0\")\n",
    "    else:\n",
    "        print(\"accept H0\")"
   ]
  },
  {
   "cell_type": "markdown",
   "id": "72e21854-e8c0-49df-b065-42bda1ae74b6",
   "metadata": {},
   "source": [
    "Thus, there is a relationship between two categorical variables tested. i.e. loan_status vs grades, loan_status vs home_ownership, and loan_status vs purpose."
   ]
  },
  {
   "cell_type": "code",
   "execution_count": null,
   "id": "1da0a27a-2fbb-4430-80b4-0a5939610c07",
   "metadata": {},
   "outputs": [],
   "source": []
  }
 ],
 "metadata": {
  "kernelspec": {
   "display_name": "Python 3 (ipykernel)",
   "language": "python",
   "name": "python3"
  },
  "language_info": {
   "codemirror_mode": {
    "name": "ipython",
    "version": 3
   },
   "file_extension": ".py",
   "mimetype": "text/x-python",
   "name": "python",
   "nbconvert_exporter": "python",
   "pygments_lexer": "ipython3",
   "version": "3.12.3"
  }
 },
 "nbformat": 4,
 "nbformat_minor": 5
}
